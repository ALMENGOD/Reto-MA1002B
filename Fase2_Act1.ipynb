{
  "nbformat": 4,
  "nbformat_minor": 0,
  "metadata": {
    "colab": {
      "provenance": []
    },
    "kernelspec": {
      "name": "python3",
      "display_name": "Python 3"
    },
    "language_info": {
      "name": "python"
    }
  },
  "cells": [
    {
      "cell_type": "code",
      "execution_count": null,
      "metadata": {
        "id": "1ku6IpYSAE6N"
      },
      "outputs": [],
      "source": [
        "import numpy as np\n",
        "import matplotlib.pyplot as plt"
      ]
    },
    {
      "cell_type": "code",
      "source": [
        "x0=20\n",
        "y0=20\n",
        "t0=0\n",
        "tf=30\n",
        "h=5\n",
        "a=1\n",
        "b=0.02\n",
        "c=1\n",
        "d=0.01"
      ],
      "metadata": {
        "id": "jzamzhtcAkg6"
      },
      "execution_count": null,
      "outputs": []
    },
    {
      "cell_type": "code",
      "source": [
        "nt = int((tf-t0)/h)\n",
        "x = np.empty(nt+1)\n",
        "y = np.empty(nt+1)\n",
        "x[0]=x0\n",
        "y[0]=y0\n",
        "\n",
        "for step in range(nt):\n",
        "  x[step+1] = a*x[step]-b*x[step]*h\n",
        "  y[step+1] = -c*y[step]+d*y[step]*h\n"
      ],
      "metadata": {
        "id": "t-mHRGtWAkdY"
      },
      "execution_count": null,
      "outputs": []
    },
    {
      "cell_type": "code",
      "source": [
        "print('Función aproximada x:',x)"
      ],
      "metadata": {
        "colab": {
          "base_uri": "https://localhost:8080/"
        },
        "id": "LNwqj9_RAka1",
        "outputId": "a7e3f7d6-abcf-4069-b755-675503d18b53"
      },
      "execution_count": null,
      "outputs": [
        {
          "output_type": "stream",
          "name": "stdout",
          "text": [
            "Función aproximada x: [ 20. -20. -20. -20. -20. -20. -20.]\n"
          ]
        }
      ]
    },
    {
      "cell_type": "code",
      "source": [
        "print('Función aproximada y:',y)"
      ],
      "metadata": {
        "colab": {
          "base_uri": "https://localhost:8080/"
        },
        "id": "pulSnx8YAkX9",
        "outputId": "84d6106f-4528-4aac-938b-485bf8c6bc54"
      },
      "execution_count": null,
      "outputs": [
        {
          "output_type": "stream",
          "name": "stdout",
          "text": [
            "Función aproximada y: [20.  0. -0.  0. -0.  0. -0.]\n"
          ]
        }
      ]
    },
    {
      "cell_type": "code",
      "source": [
        "plt.plot(x,y)\n",
        "plt.xlabel('x')\n",
        "plt.ylabel('y')\n",
        "plt.title('Fase 2 actividad 1')\n",
        "plt.show()"
      ],
      "metadata": {
        "colab": {
          "base_uri": "https://localhost:8080/",
          "height": 295
        },
        "id": "FkxZa9lRPKXd",
        "outputId": "b6a765aa-aba1-44e2-d6b8-30e81191ef21"
      },
      "execution_count": null,
      "outputs": [
        {
          "output_type": "display_data",
          "data": {
            "text/plain": [
              "<Figure size 432x288 with 1 Axes>"
            ],
            "image/png": "[encoded data removed]"
          },
          "metadata": {
            "needs_background": "light"
          }
        }
      ]
    },
    {
      "cell_type": "code",
      "source": [
        "print('Solución en t de x=',tf,':',x[nt])"
      ],
      "metadata": {
        "colab": {
          "base_uri": "https://localhost:8080/"
        },
        "id": "PpGw3mjiAkVO",
        "outputId": "4b410df7-7fc6-42aa-be74-dc3b9e7f5bc5"
      },
      "execution_count": null,
      "outputs": [
        {
          "output_type": "stream",
          "name": "stdout",
          "text": [
            "Solución en t de x= 30 : -20.0\n"
          ]
        }
      ]
    },
    {
      "cell_type": "code",
      "source": [
        "print('Solución en t de y=',tf,':',y[nt])"
      ],
      "metadata": {
        "colab": {
          "base_uri": "https://localhost:8080/"
        },
        "id": "tnCpmReQAkSr",
        "outputId": "625990fa-b988-4b85-d4d9-55c2aaaa9532"
      },
      "execution_count": null,
      "outputs": [
        {
          "output_type": "stream",
          "name": "stdout",
          "text": [
            "Solución en t de y= 30 : -0.0\n"
          ]
        }
      ]
    },
    {
      "cell_type": "code",
      "source": [
        "from scipy.integrate import odeint "
      ],
      "metadata": {
        "id": "ZfN1-Po6nTSa"
      },
      "execution_count": null,
      "outputs": []
    },
    {
      "cell_type": "code",
      "source": [
        "def dfdt(z,t):\n",
        "   dxdt= a*z[0]-b*z[0]*z[1]\n",
        "   dydt=-c*z[1]+d*z[0]*z[1]\n",
        "   dzdt=[dxdt, dydt]\n",
        "   return dzdt\n",
        "\n",
        "z0=[20,20]\n",
        "\n",
        "ts=np.linspace(0, 30, 3001)\n",
        "\n",
        "z = odeint(dfdt, z0, ts)"
      ],
      "metadata": {
        "id": "PUZJ6fBynxVD"
      },
      "execution_count": null,
      "outputs": []
    },
    {
      "cell_type": "code",
      "source": [
        "print(z)"
      ],
      "metadata": {
        "colab": {
          "base_uri": "https://localhost:8080/"
        },
        "id": "va4smXXnqLyi",
        "outputId": "0405152d-b234-4c82-b68c-5280804b5ac5"
      },
      "execution_count": null,
      "outputs": [
        {
          "output_type": "stream",
          "name": "stdout",
          "text": [
            "[[20.         20.        ]\n",
            " [20.1206817  19.8407577 ]\n",
            " [20.24273321 19.68302225]\n",
            " ...\n",
            " [19.30583103 20.98529158]\n",
            " [19.41851512 20.81675097]\n",
            " [19.5325122  20.64979802]]\n"
          ]
        }
      ]
    }
  ]
}